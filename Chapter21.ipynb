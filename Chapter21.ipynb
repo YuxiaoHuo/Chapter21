{
  "nbformat": 4,
  "nbformat_minor": 0,
  "metadata": {
    "colab": {
      "name": "Chapter21.ipynb",
      "provenance": [],
      "collapsed_sections": []
    },
    "kernelspec": {
      "name": "python3",
      "display_name": "Python 3"
    }
  },
  "cells": [
    {
      "cell_type": "code",
      "metadata": {
        "id": "yvEaC2_7rfB1",
        "colab_type": "code",
        "colab": {
          "base_uri": "https://localhost:8080/",
          "height": 354
        },
        "outputId": "a52b6b0e-211c-49c2-f31e-f2eaadfec426"
      },
      "source": [
        "pip install yfinance"
      ],
      "execution_count": null,
      "outputs": [
        {
          "output_type": "stream",
          "text": [
            "Collecting yfinance\n",
            "  Downloading https://files.pythonhosted.org/packages/c2/31/8b374a12b90def92a4e27d0fc595fc43635f395984e36a075244d98bd265/yfinance-0.1.54.tar.gz\n",
            "Requirement already satisfied: pandas>=0.24 in /usr/local/lib/python3.6/dist-packages (from yfinance) (1.0.5)\n",
            "Requirement already satisfied: numpy>=1.15 in /usr/local/lib/python3.6/dist-packages (from yfinance) (1.18.5)\n",
            "Requirement already satisfied: requests>=2.20 in /usr/local/lib/python3.6/dist-packages (from yfinance) (2.23.0)\n",
            "Requirement already satisfied: multitasking>=0.0.7 in /usr/local/lib/python3.6/dist-packages (from yfinance) (0.0.9)\n",
            "Requirement already satisfied: python-dateutil>=2.6.1 in /usr/local/lib/python3.6/dist-packages (from pandas>=0.24->yfinance) (2.8.1)\n",
            "Requirement already satisfied: pytz>=2017.2 in /usr/local/lib/python3.6/dist-packages (from pandas>=0.24->yfinance) (2018.9)\n",
            "Requirement already satisfied: certifi>=2017.4.17 in /usr/local/lib/python3.6/dist-packages (from requests>=2.20->yfinance) (2020.4.5.2)\n",
            "Requirement already satisfied: urllib3!=1.25.0,!=1.25.1,<1.26,>=1.21.1 in /usr/local/lib/python3.6/dist-packages (from requests>=2.20->yfinance) (1.24.3)\n",
            "Requirement already satisfied: idna<3,>=2.5 in /usr/local/lib/python3.6/dist-packages (from requests>=2.20->yfinance) (2.9)\n",
            "Requirement already satisfied: chardet<4,>=3.0.2 in /usr/local/lib/python3.6/dist-packages (from requests>=2.20->yfinance) (3.0.4)\n",
            "Requirement already satisfied: six>=1.5 in /usr/local/lib/python3.6/dist-packages (from python-dateutil>=2.6.1->pandas>=0.24->yfinance) (1.12.0)\n",
            "Building wheels for collected packages: yfinance\n",
            "  Building wheel for yfinance (setup.py) ... \u001b[?25l\u001b[?25hdone\n",
            "  Created wheel for yfinance: filename=yfinance-0.1.54-py2.py3-none-any.whl size=22409 sha256=c046758ed4b5255d69109fcd4cb641f254f51e86892fc5ada69dc08a3bea30ce\n",
            "  Stored in directory: /root/.cache/pip/wheels/f9/e3/5b/ec24dd2984b12d61e0abf26289746c2436a0e7844f26f2515c\n",
            "Successfully built yfinance\n",
            "Installing collected packages: yfinance\n",
            "Successfully installed yfinance-0.1.54\n"
          ],
          "name": "stdout"
        }
      ]
    },
    {
      "cell_type": "code",
      "metadata": {
        "id": "_lspCooMve-v",
        "colab_type": "code",
        "colab": {
          "base_uri": "https://localhost:8080/",
          "height": 101
        },
        "outputId": "f7ec7ffc-d617-4b9f-8bc9-5030d954c1cb"
      },
      "source": [
        "pip install requests"
      ],
      "execution_count": null,
      "outputs": [
        {
          "output_type": "stream",
          "text": [
            "Requirement already satisfied: requests in /usr/local/lib/python3.6/dist-packages (2.23.0)\n",
            "Requirement already satisfied: urllib3!=1.25.0,!=1.25.1,<1.26,>=1.21.1 in /usr/local/lib/python3.6/dist-packages (from requests) (1.24.3)\n",
            "Requirement already satisfied: idna<3,>=2.5 in /usr/local/lib/python3.6/dist-packages (from requests) (2.9)\n",
            "Requirement already satisfied: certifi>=2017.4.17 in /usr/local/lib/python3.6/dist-packages (from requests) (2020.4.5.2)\n",
            "Requirement already satisfied: chardet<4,>=3.0.2 in /usr/local/lib/python3.6/dist-packages (from requests) (3.0.4)\n"
          ],
          "name": "stdout"
        }
      ]
    },
    {
      "cell_type": "code",
      "metadata": {
        "id": "IHY7jVjkviS8",
        "colab_type": "code",
        "colab": {
          "base_uri": "https://localhost:8080/",
          "height": 50
        },
        "outputId": "0f827e55-1f57-47ef-e3d3-a4dec8416f73"
      },
      "source": [
        "pip install bs4"
      ],
      "execution_count": null,
      "outputs": [
        {
          "output_type": "stream",
          "text": [
            "Requirement already satisfied: bs4 in /usr/local/lib/python3.6/dist-packages (0.0.1)\n",
            "Requirement already satisfied: beautifulsoup4 in /usr/local/lib/python3.6/dist-packages (from bs4) (4.6.3)\n"
          ],
          "name": "stdout"
        }
      ]
    },
    {
      "cell_type": "code",
      "metadata": {
        "id": "YuqX6YN6vnnF",
        "colab_type": "code",
        "colab": {}
      },
      "source": [
        "!pip install -U -q PyDrive"
      ],
      "execution_count": null,
      "outputs": []
    },
    {
      "cell_type": "code",
      "metadata": {
        "id": "CVcevivwTzMq",
        "colab_type": "code",
        "colab": {
          "base_uri": "https://localhost:8080/",
          "height": 50
        },
        "outputId": "cc9b590b-12bb-4e56-d18f-5974c1c6ae65"
      },
      "source": [
        "import yfinance as yf\n",
        "import matplotlib.pyplot as plt\n",
        "import numpy as np\n",
        "import pandas as pd\n",
        "from scipy.stats import kurtosis, skew\n",
        "from tabulate import tabulate\n",
        "import datetime as dt#get current date\n",
        "import statsmodels.api as sm\n",
        "from statsmodels.formula.api import ols\n",
        "from statsmodels.stats.anova import anova_lm\n",
        "import requests\n",
        "from bs4 import BeautifulSoup\n",
        "import matplotlib.ticker as mtick\n",
        "from google.colab import files\n",
        "from pydrive.auth import GoogleAuth\n",
        "from pydrive.drive import GoogleDrive\n",
        "from google.colab import auth\n",
        "from oauth2client.client import GoogleCredentials"
      ],
      "execution_count": null,
      "outputs": [
        {
          "output_type": "stream",
          "text": [
            "/usr/local/lib/python3.6/dist-packages/statsmodels/tools/_testing.py:19: FutureWarning: pandas.util.testing is deprecated. Use the functions in the public API at pandas.testing instead.\n",
            "  import pandas.util.testing as tm\n"
          ],
          "name": "stderr"
        }
      ]
    },
    {
      "cell_type": "code",
      "metadata": {
        "id": "Q1tExQiP1FFw",
        "colab_type": "code",
        "colab": {}
      },
      "source": [
        "def stock_return(Ticker,Start_T, End_T, T_interval):\n",
        "  if T_interval == '1y':\n",
        "    Stock_price = yf.download(Ticker,start=Start_T,end=End_T,interval = '1mo')['Adj Close'].dropna()\n",
        "    Stock_price_year = []\n",
        "    date_year = pd.date_range(start=Start_T,end=End_T, freq='Y')\n",
        "    for i in range(len(Stock_price)):\n",
        "      if i % 12 == 0:\n",
        "        Stock_price_year.append(Stock_price[i])\n",
        "    s1 = pd.Series(date_year,name='Date')\n",
        "    s2=  pd.Series(Stock_price_year[:len(date_year)],name='year_stock_price')\n",
        "    Ret_y = s2.pct_change()[1:].dropna()\n",
        "    Ret_y_d = pd.concat([s1, Ret_y],axis=1).dropna()\n",
        "    Ret_y_d = Ret_y_d.set_index('Date')\n",
        "    return(Ret_y_d)\n",
        "  else:\n",
        "    Stock_price = yf.download(Ticker,start=Start_T,end=End_T,interval = T_interval)['Adj Close'].dropna()\n",
        "    Ret = Stock_price.pct_change()[1:].dropna()\n",
        "    return Ret"
      ],
      "execution_count": null,
      "outputs": []
    },
    {
      "cell_type": "code",
      "metadata": {
        "id": "Ta87zXnd1LMF",
        "colab_type": "code",
        "colab": {
          "base_uri": "https://localhost:8080/",
          "height": 219
        },
        "outputId": "09c940f9-742c-419c-dac8-ca69dda3ec99"
      },
      "source": [
        "previousday = dt.date.today()-dt.timedelta(days=1)# get the date of previous day\n",
        "Default_end = previousday.strftime(\"%Y-%m-%d\") # change the format of the default datetime \n",
        "years_ago = dt.date.today()-dt.timedelta(days=1852)\n",
        "Default_start = years_ago.strftime(\"%Y-%m-%d\")\n",
        "\n",
        "Ticker = input('Please enter ticker(Default = JNJ)-->') or 'JNJ'\n",
        "Start = input('Enter start date(' + 'Default = 5 Years ago, ' + Default_start + ')-->') or Default_start\n",
        "End = input('Enter end date(Default = Yesterday, ' + Default_end + ')-->') or Default_end\n",
        "T_interval = input('Enter date interval(1m,2m,5m,15m,30m,60m,90m,1h,1d,5d,1wk,1mo,3mo Default = 1mo)-->') or '1mo'\n",
        "\n",
        "Ret = stock_return(Ticker,Start, End, T_interval)\n",
        "Ret1 = stock_return('SNP',Start, End, T_interval)\n",
        "#Ret.sort_index(ascending=True)\n",
        "#Ret1.sort_index(ascending=True)\n",
        "if T_interval != '1y':\n",
        "  Ret.to_frame()\n",
        "  Ret1.to_frame()\n",
        "Retcon = pd.concat([Ret,Ret1], axis = 1)\n",
        "Retcon.columns = [Ticker, 'SNP']\n",
        "print(Retcon)"
      ],
      "execution_count": null,
      "outputs": [
        {
          "output_type": "stream",
          "text": [
            "Please enter ticker(Default = JNJ)-->\n",
            "Enter start date(Default = 5 Years ago, 2015-06-01)-->\n",
            "Enter end date(Default = Yesterday, 2020-06-25)-->\n",
            "Enter date interval(1m,2m,5m,15m,30m,60m,90m,1h,1d,5d,1wk,1mo,3mo Default = 1mo)-->1y\n",
            "[*********************100%***********************]  1 of 1 completed\n",
            "[*********************100%***********************]  1 of 1 completed\n",
            "                 JNJ       SNP\n",
            "Date                          \n",
            "2016-12-31  0.281621 -0.105466\n",
            "2017-12-31  0.120158  0.124585\n",
            "2018-12-31 -0.058406  0.283561\n",
            "2019-12-31  0.178579 -0.177723\n"
          ],
          "name": "stdout"
        }
      ]
    },
    {
      "cell_type": "code",
      "metadata": {
        "id": "25GS2mk0See0",
        "colab_type": "code",
        "colab": {
          "base_uri": "https://localhost:8080/",
          "height": 455
        },
        "outputId": "2dc27c71-9378-40b0-bedd-fe528516bef9"
      },
      "source": [
        "ret_M = stock_return('SNP', Start,End,T_interval)\n",
        "ret_a = stock_return(Ticker, Start,End, T_interval)\n",
        "ret_M_arr = np.asarray(ret_M)\n",
        "ret_a_arr = np.asarray(ret_a)\n",
        "ret_Mc = sm.add_constant(ret_M_arr)\n",
        "results = sm.OLS(ret_a_arr,ret_Mc).fit()\n",
        "print('                                 Market Model')\n",
        "print(results.summary2())"
      ],
      "execution_count": null,
      "outputs": [
        {
          "output_type": "stream",
          "text": [
            "[*********************100%***********************]  1 of 1 completed\n",
            "[*********************100%***********************]  1 of 1 completed\n",
            "                                 Market Model\n",
            "                 Results: Ordinary least squares\n",
            "==================================================================\n",
            "Model:              OLS              Adj. R-squared:     0.650    \n",
            "Dependent Variable: y                AIC:                -7.2046  \n",
            "Date:               2020-06-26 03:17 BIC:                -8.4320  \n",
            "No. Observations:   4                Log-Likelihood:     5.6023   \n",
            "Df Model:           1                F-statistic:        6.568    \n",
            "Df Residuals:       2                Prob (F-statistic): 0.124    \n",
            "R-squared:          0.767            Scale:              0.0071126\n",
            "--------------------------------------------------------------------\n",
            "             Coef.    Std.Err.      t      P>|t|     [0.025   0.975]\n",
            "--------------------------------------------------------------------\n",
            "const        0.1489     0.0428    3.4806   0.0736   -0.0352   0.3329\n",
            "x1          -0.5888     0.2298   -2.5628   0.1245   -1.5774   0.3997\n",
            "------------------------------------------------------------------\n",
            "Omnibus:              nan           Durbin-Watson:           0.639\n",
            "Prob(Omnibus):        nan           Jarque-Bera (JB):        0.514\n",
            "Skew:                 -0.053        Prob(JB):                0.773\n",
            "Kurtosis:             1.247         Condition No.:           5    \n",
            "==================================================================\n",
            "\n"
          ],
          "name": "stdout"
        },
        {
          "output_type": "stream",
          "text": [
            "/usr/local/lib/python3.6/dist-packages/statsmodels/stats/stattools.py:71: ValueWarning: omni_normtest is not valid with less than 8 observations; 4 samples were given.\n",
            "  \"samples were given.\" % int(n), ValueWarning)\n"
          ],
          "name": "stderr"
        }
      ]
    },
    {
      "cell_type": "code",
      "metadata": {
        "id": "NwAvBYiTLmJj",
        "colab_type": "code",
        "colab": {
          "base_uri": "https://localhost:8080/",
          "height": 67
        },
        "outputId": "0a8f5f05-2506-4077-98ec-69d0b95f84c4"
      },
      "source": [
        "model = ols(Ticker+' ~ SNP',Retcon).fit()\n",
        "anova_table = anova_lm(model)\n",
        "print(anova_table)"
      ],
      "execution_count": null,
      "outputs": [
        {
          "output_type": "stream",
          "text": [
            "           df    sum_sq   mean_sq         F    PR(>F)\n",
            "SNP       1.0  0.046716  0.046716  6.568078  0.124457\n",
            "Residual  2.0  0.014225  0.007113       NaN       NaN\n"
          ],
          "name": "stdout"
        }
      ]
    },
    {
      "cell_type": "code",
      "metadata": {
        "id": "aIv6kxB6oi9b",
        "colab_type": "code",
        "colab": {
          "base_uri": "https://localhost:8080/",
          "height": 84
        },
        "outputId": "ba9e0c9c-53ea-42f7-c968-52840728e16c"
      },
      "source": [
        "total_risk = round((anova_table['sum_sq'][0]+anova_table['sum_sq'][1])/(anova_table['df'][0]+anova_table['df'][1]),5)\n",
        "systematic_risk = round((anova_table['sum_sq'][0])/(anova_table['df'][0]+anova_table['df'][1]),5)\n",
        "unsystematic_risk = round((anova_table['sum_sq'][1])/(anova_table['df'][0]+anova_table['df'][1]),5)\n",
        "print('By using the rate of return for ' + str(Ticker) + ' and the market rate of return to estimate the market model \\nWe obtain total risk as ' + str(total_risk)+'\\nSystematic risk as '+ str(systematic_risk) + '\\nUnsystematic risk as '+ str(unsystematic_risk))"
      ],
      "execution_count": null,
      "outputs": [
        {
          "output_type": "stream",
          "text": [
            "By using the rate of return for JNJ and the market rate of return to estimate the market model \n",
            "We obtain total risk as 0.02031\n",
            "Systematic risk as 0.01557\n",
            "Unsystematic risk as 0.00474\n"
          ],
          "name": "stdout"
        }
      ]
    }
  ]
}